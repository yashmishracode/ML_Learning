{
 "cells": [
  {
   "cell_type": "code",
   "execution_count": null,
   "id": "1d7f214d-dca3-4c8b-991c-dde93d1cc5bb",
   "metadata": {},
   "outputs": [],
   "source": [
    "# Import the packages\n",
    "# Read the data\n",
    "# Load the model\n",
    "# pass the test Case\n",
    "# Get the predictions"
   ]
  },
  {
   "cell_type": "code",
   "execution_count": 1,
   "id": "41496435-4c8f-45ee-a9b0-c25c2775e2a7",
   "metadata": {},
   "outputs": [],
   "source": [
    "# Import the packages\n",
    "import numpy as np\n",
    "import pandas as pd\n",
    "import matplotlib.pyplot as plt\n",
    "import seaborn as sns\n",
    "import warnings \n",
    "warnings.filterwarnings('ignore')"
   ]
  },
  {
   "cell_type": "code",
   "execution_count": 2,
   "id": "7f1a2848-7386-45df-8603-1a95ffdb3b0b",
   "metadata": {},
   "outputs": [],
   "source": [
    "# Read the data\n",
    "df=pd.read_csv(\"C:\\\\Users\\\\yashm\\\\Desktop\\\\nareshIT-DataScience\\\\data file\\\\redwine.csv\")"
   ]
  },
  {
   "cell_type": "code",
   "execution_count": 6,
   "id": "0f74f3ba-69bc-4820-94ee-ae4385ef1c06",
   "metadata": {},
   "outputs": [],
   "source": [
    "# Load the model\n",
    "import pickle\n"
   ]
  },
  {
   "cell_type": "code",
   "execution_count": 7,
   "id": "c1758d0f-d02c-40c7-a0b6-9e954c500ebb",
   "metadata": {},
   "outputs": [],
   "source": [
    "saved_model=pickle.load(open('wine_model.pkl','rb'))"
   ]
  },
  {
   "cell_type": "code",
   "execution_count": 9,
   "id": "b971da2b-95a8-43f2-92e4-79c56ab68748",
   "metadata": {},
   "outputs": [
    {
     "data": {
      "text/plain": [
       "array([-127.28910293])"
      ]
     },
     "execution_count": 9,
     "metadata": {},
     "output_type": "execute_result"
    }
   ],
   "source": [
    "saved_model.predict([[1,2,3,4,5,6,7,8,9,10,11]])"
   ]
  },
  {
   "cell_type": "code",
   "execution_count": null,
   "id": "07d03370-6cab-4011-9018-109069c88ace",
   "metadata": {},
   "outputs": [],
   "source": [
    "# Dump : 'wb' write bytes\n",
    "# Load : 'rb' read bytes\n",
    "# encoded format : bytes\n",
    "# pickle.dump(LR,open('wine_model.pkl','wb'))\n",
    "# saved_model=pickle.load(open('wine_model.pkl','rb'))"
   ]
  },
  {
   "cell_type": "code",
   "execution_count": null,
   "id": "2cd5cc03-6854-470b-a867-f535aa5b06f4",
   "metadata": {},
   "outputs": [],
   "source": []
  },
  {
   "cell_type": "code",
   "execution_count": null,
   "id": "a29283bd-61c8-45bf-b92e-646d7e4cdece",
   "metadata": {},
   "outputs": [],
   "source": []
  },
  {
   "cell_type": "code",
   "execution_count": null,
   "id": "47db75ee-41a2-428f-99f0-328e7635a935",
   "metadata": {},
   "outputs": [],
   "source": []
  }
 ],
 "metadata": {
  "kernelspec": {
   "display_name": "Python [conda env:base] *",
   "language": "python",
   "name": "conda-base-py"
  },
  "language_info": {
   "codemirror_mode": {
    "name": "ipython",
    "version": 3
   },
   "file_extension": ".py",
   "mimetype": "text/x-python",
   "name": "python",
   "nbconvert_exporter": "python",
   "pygments_lexer": "ipython3",
   "version": "3.12.3"
  }
 },
 "nbformat": 4,
 "nbformat_minor": 5
}
